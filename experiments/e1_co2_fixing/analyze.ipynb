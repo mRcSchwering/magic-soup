{
 "cells": [
  {
   "cell_type": "code",
   "execution_count": 10,
   "metadata": {},
   "outputs": [
    {
     "ename": "TypeError",
     "evalue": "__new__() missing 2 required positional arguments: 'name' and 'energy'",
     "output_type": "error",
     "traceback": [
      "\u001b[0;31m---------------------------------------------------------------------------\u001b[0m",
      "\u001b[0;31mTypeError\u001b[0m                                 Traceback (most recent call last)",
      "\u001b[1;32m/home/marc/luca/experiments/e1_co2_fixing/analyze.ipynb Cell 1\u001b[0m in \u001b[0;36m<cell line: 13>\u001b[0;34m()\u001b[0m\n\u001b[1;32m     <a href='vscode-notebook-cell:/home/marc/luca/experiments/e1_co2_fixing/analyze.ipynb#W0sZmlsZQ%3D%3D?line=10'>11</a>\u001b[0m theme_set(theme_minimal())\n\u001b[1;32m     <a href='vscode-notebook-cell:/home/marc/luca/experiments/e1_co2_fixing/analyze.ipynb#W0sZmlsZQ%3D%3D?line=11'>12</a>\u001b[0m this_dir \u001b[39m=\u001b[39m Path(\u001b[39m\"\u001b[39m\u001b[39m.\u001b[39m\u001b[39m\"\u001b[39m) \u001b[39m/\u001b[39m \u001b[39m\"\u001b[39m\u001b[39mexperiments\u001b[39m\u001b[39m\"\u001b[39m \u001b[39m/\u001b[39m \u001b[39m\"\u001b[39m\u001b[39me1_co2_fixing\u001b[39m\u001b[39m\"\u001b[39m\n\u001b[0;32m---> <a href='vscode-notebook-cell:/home/marc/luca/experiments/e1_co2_fixing/analyze.ipynb#W0sZmlsZQ%3D%3D?line=12'>13</a>\u001b[0m world \u001b[39m=\u001b[39m ms\u001b[39m.\u001b[39;49mWorld\u001b[39m.\u001b[39;49mfrom_file(filepath\u001b[39m=\u001b[39;49mthis_dir \u001b[39m/\u001b[39;49m \u001b[39m\"\u001b[39;49m\u001b[39mruns\u001b[39;49m\u001b[39m\"\u001b[39;49m \u001b[39m/\u001b[39;49m \u001b[39m\"\u001b[39;49m\u001b[39m2023-01-09_19-39\u001b[39;49m\u001b[39m\"\u001b[39;49m \u001b[39m/\u001b[39;49m \u001b[39m\"\u001b[39;49m\u001b[39mworld.pkl\u001b[39;49m\u001b[39m\"\u001b[39;49m)\n",
      "File \u001b[0;32m~/luca/magicsoup/world.py:351\u001b[0m, in \u001b[0;36mWorld.from_file\u001b[0;34m(self, filepath)\u001b[0m\n\u001b[1;32m    349\u001b[0m \u001b[39m\"\"\"Restore previously saved world object from pickle file\"\"\"\u001b[39;00m\n\u001b[1;32m    350\u001b[0m \u001b[39mwith\u001b[39;00m \u001b[39mopen\u001b[39m(filepath, \u001b[39m\"\u001b[39m\u001b[39mrb\u001b[39m\u001b[39m\"\u001b[39m) \u001b[39mas\u001b[39;00m fh:\n\u001b[0;32m--> 351\u001b[0m     \u001b[39mreturn\u001b[39;00m pickle\u001b[39m.\u001b[39;49mload(fh)\n",
      "\u001b[0;31mTypeError\u001b[0m: __new__() missing 2 required positional arguments: 'name' and 'energy'"
     ]
    }
   ],
   "source": [
    "from itertools import product, combinations\n",
    "import math\n",
    "from pathlib import Path\n",
    "import pandas as pd\n",
    "import torch\n",
    "from plotnine import *\n",
    "import magicsoup as ms\n",
    "import magicsoup.examples.wood_ljungdahl\n",
    "import magicsoup.examples.reverse_krebs\n",
    "\n",
    "theme_set(theme_minimal())\n",
    "this_dir = Path(\".\") / \"experiments\" / \"e1_co2_fixing\"\n",
    "world = ms.World.from_file(filepath=this_dir / \"runs\" / \"2023-01-09_19-39\" / \"world.pkl\")"
   ]
  },
  {
   "cell_type": "code",
   "execution_count": null,
   "metadata": {},
   "outputs": [],
   "source": []
  }
 ],
 "metadata": {
  "kernelspec": {
   "display_name": "base",
   "language": "python",
   "name": "python3"
  },
  "language_info": {
   "codemirror_mode": {
    "name": "ipython",
    "version": 3
   },
   "file_extension": ".py",
   "mimetype": "text/x-python",
   "name": "python",
   "nbconvert_exporter": "python",
   "pygments_lexer": "ipython3",
   "version": "3.9.12"
  },
  "orig_nbformat": 4,
  "vscode": {
   "interpreter": {
    "hash": "42a596d4deeabe370ed2c2487fc38f343bcf3286a79643425417a1e69228f566"
   }
  }
 },
 "nbformat": 4,
 "nbformat_minor": 2
}
