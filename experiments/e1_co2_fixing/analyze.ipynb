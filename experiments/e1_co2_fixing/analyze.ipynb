{
 "cells": [
  {
   "cell_type": "code",
   "execution_count": 4,
   "metadata": {},
   "outputs": [],
   "source": [
    "from itertools import product, combinations\n",
    "import math\n",
    "from pathlib import Path\n",
    "import pandas as pd\n",
    "import torch\n",
    "from plotnine import *\n",
    "import magicsoup as ms\n",
    "import magicsoup.examples.wood_ljungdahl\n",
    "import magicsoup.examples.reverse_krebs\n",
    "\n",
    "theme_set(theme_minimal())\n",
    "this_dir = Path(\".\") / \"experiments\" / \"e1_co2_fixing\"\n",
    "world = ms.World.from_file(statedir=this_dir / \"runs\" / \"2023-01-09_22-24\")"
   ]
  },
  {
   "cell_type": "code",
   "execution_count": null,
   "metadata": {},
   "outputs": [],
   "source": []
  }
 ],
 "metadata": {
  "kernelspec": {
   "display_name": "base",
   "language": "python",
   "name": "python3"
  },
  "language_info": {
   "codemirror_mode": {
    "name": "ipython",
    "version": 3
   },
   "file_extension": ".py",
   "mimetype": "text/x-python",
   "name": "python",
   "nbconvert_exporter": "python",
   "pygments_lexer": "ipython3",
   "version": "3.9.12"
  },
  "orig_nbformat": 4,
  "vscode": {
   "interpreter": {
    "hash": "42a596d4deeabe370ed2c2487fc38f343bcf3286a79643425417a1e69228f566"
   }
  }
 },
 "nbformat": 4,
 "nbformat_minor": 2
}
